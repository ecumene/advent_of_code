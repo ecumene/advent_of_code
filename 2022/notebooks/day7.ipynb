{
 "cells": [
  {
   "cell_type": "markdown",
   "id": "e6315eeb-185e-4fe8-aea4-2440d8539bd3",
   "metadata": {},
   "source": [
    "# aoc day 7\n",
    "\n",
    "<img src=\"./images/day7.jpeg\" alt=\"elf looking surprised at terminal output\" width=\"200\"/>\n",
    "\n",
    "> prompt: *elf looking surprised at terminal output*"
   ]
  },
  {
   "cell_type": "code",
   "execution_count": 2,
   "id": "55ecbd17-56be-4a96-85c7-e454bd9fba68",
   "metadata": {},
   "outputs": [],
   "source": [
    "day = 7"
   ]
  },
  {
   "cell_type": "code",
   "execution_count": 3,
   "id": "9e7db449-e0ce-4e20-8e6b-751ecc7352a8",
   "metadata": {
    "tags": []
   },
   "outputs": [
    {
     "data": {
      "text/html": [
       "\n",
       "                <script type=\"application/javascript\" id=\"jupyter_black\">\n",
       "                (function() {\n",
       "                    if (window.IPython === undefined) {\n",
       "                        return\n",
       "                    }\n",
       "                    var msg = \"WARNING: it looks like you might have loaded \" +\n",
       "                        \"jupyter_black in a non-lab notebook with \" +\n",
       "                        \"`is_lab=True`. Please double check, and if \" +\n",
       "                        \"loading with `%load_ext` please review the README!\"\n",
       "                    console.log(msg)\n",
       "                    alert(msg)\n",
       "                })()\n",
       "                </script>\n",
       "                "
      ],
      "text/plain": [
       "<IPython.core.display.HTML object>"
      ]
     },
     "metadata": {},
     "output_type": "display_data"
    }
   ],
   "source": [
    "%load_ext dotenv\n",
    "%load_ext autoreload\n",
    "%load_ext jupyter_black"
   ]
  },
  {
   "cell_type": "code",
   "execution_count": 4,
   "id": "16727a91-e821-4f32-86a4-6cfd4d3c875b",
   "metadata": {
    "tags": []
   },
   "outputs": [],
   "source": [
    "import os\n",
    "import sys\n",
    "import math\n",
    "\n",
    "sys.path.append(os.path.join(*os.path.split(os.getcwd())[0:-1]))\n",
    "from scripts import aoc\n",
    "from IPython.display import display, HTML\n",
    "\n",
    "%autoreload 2\n",
    "%dotenv"
   ]
  },
  {
   "cell_type": "code",
   "execution_count": 231,
   "id": "8f8c2595-611f-46f3-96c5-470808566c9c",
   "metadata": {
    "tags": []
   },
   "outputs": [],
   "source": [
    "# problem_input = \"\"\"$ cd /\n",
    "# $ ls\n",
    "# dir a\n",
    "# 14848514 b.txt\n",
    "# 8504156 c.dat\n",
    "# dir d\n",
    "# $ cd a\n",
    "# $ ls\n",
    "# dir e\n",
    "# 29116 f\n",
    "# 2557 g\n",
    "# 62596 h.lst\n",
    "# $ cd e\n",
    "# $ ls\n",
    "# 584 i\n",
    "# $ cd ..\n",
    "# $ cd ..\n",
    "# $ cd d\n",
    "# $ ls\n",
    "# 4060174 j\n",
    "# 8033020 d.log\n",
    "# 5626152 d.ext\n",
    "# 7214296 k\n",
    "# \"\"\"\n",
    "\n",
    "problem_input = aoc.http_get_aoc_day(2022, day)"
   ]
  },
  {
   "cell_type": "markdown",
   "id": "9f898004-b17a-4fd7-9131-bb68108e4122",
   "metadata": {},
   "source": [
    "## preprocessing\n",
    "\n",
    "follow the `cd` commands, appending that to an array called `path`. if the line isn't a command, we append the current path to the file-tree while keeping a `__contents` sum of all the files in that folder.\n",
    "\n",
    "### in summary:\n",
    "\n",
    "**for line**\n",
    "\n",
    "    - if line starts with $\n",
    "        - pop if the directory is ..\n",
    "        - push if the command is cd\n",
    "        **continue**\n",
    "\n",
    "    - split on whitespace\n",
    "        - if size = dir, **continue**\n",
    "        - cast size to int\n",
    "            - keep track of tree_item as the current node\n",
    "            - walk through the path, defining the nodes if need be\n",
    "            - if this is the end of the path, add the current file's size\n",
    "        \n",
    "this isn't incredibly fast but it is intuitive to me"
   ]
  },
  {
   "cell_type": "code",
   "execution_count": 232,
   "id": "39f03765-6e65-4f4b-8bba-654feae62587",
   "metadata": {},
   "outputs": [],
   "source": [
    "lines = problem_input.split(\"\\n\")\n",
    "lines.pop()\n",
    "\n",
    "path = []\n",
    "file_tree = {}\n",
    "for line in lines:\n",
    "    if line.startswith(\"$\"):\n",
    "        command = line[2:4]\n",
    "        payload = line[5:]\n",
    "        if command == \"cd\":\n",
    "            if payload == \"..\":\n",
    "                path.pop()\n",
    "            else:\n",
    "                path.append(payload)\n",
    "        continue\n",
    "\n",
    "    (size, name) = line.split(\" \")\n",
    "\n",
    "    if size == \"dir\":\n",
    "        continue\n",
    "\n",
    "    size = int(size)\n",
    "    tree_item = file_tree\n",
    "    for i, dir_name in enumerate(path):\n",
    "        tree_item = tree_item.setdefault(dir_name, {})\n",
    "\n",
    "        if i == len(path) - 1:\n",
    "            tree_item[\"__contents\"] = tree_item.get(\"__contents\", 0) + size"
   ]
  },
  {
   "cell_type": "code",
   "execution_count": 234,
   "id": "4becfe7a-0c93-4846-bb35-0c8708604f7a",
   "metadata": {},
   "outputs": [
    {
     "name": "stdout",
     "output_type": "stream",
     "text": [
      "{\n",
      "    \"/\": {\n",
      "        \"__contents\": 23352670,\n",
      "        \"a\": {\n",
      "            \"__contents\": 94269,\n",
      "            \"e\": {\n",
      "                \"__contents\": 584\n",
      "            }\n",
      "        },\n",
      "        \"d\": {\n",
      "            \"__contents\": 24933642\n",
      "        }\n",
      "    }\n",
      "}\n"
     ]
    }
   ],
   "source": [
    "print(json.dumps(file_tree, sort_keys=True, indent=4))"
   ]
  },
  {
   "cell_type": "markdown",
   "id": "6d537ec5-91e4-40e3-9bc4-767fadcc8a1c",
   "metadata": {},
   "source": [
    "### aggregating directory size\n",
    "\n",
    "now recursively walk through the tree. counting the size of the children."
   ]
  },
  {
   "cell_type": "code",
   "execution_count": null,
   "id": "370dc81e-4ec3-49ce-8466-b4e60696bc5b",
   "metadata": {},
   "outputs": [],
   "source": [
    "def compute_file_tree_bounds():\n",
    "    results = []\n",
    "\n",
    "    def handle_folder(name, folder):\n",
    "        contents = folder.get(\"__contents\", 0)\n",
    "\n",
    "        for key in folder:\n",
    "            value = folder[key]\n",
    "\n",
    "            if isinstance(value, dict):\n",
    "                size = handle_folder(key, value)\n",
    "                contents = contents + size\n",
    "\n",
    "        results.append((name, contents))\n",
    "        return contents\n",
    "\n",
    "    handle_folder(\"/\", file_tree[\"/\"])\n",
    "    return results\n",
    "\n",
    "\n",
    "computed_dirs = compute_file_tree_bounds()"
   ]
  },
  {
   "cell_type": "code",
   "execution_count": 236,
   "id": "14ddd681-cbe3-401e-92e6-302bc3b0b6f0",
   "metadata": {},
   "outputs": [
    {
     "name": "stdout",
     "output_type": "stream",
     "text": [
      "[('e', 584), ('a', 94853), ('d', 24933642), ('/', 48381165)]\n"
     ]
    }
   ],
   "source": [
    "print(computed_dirs)"
   ]
  },
  {
   "cell_type": "markdown",
   "id": "2d74e853-dc0f-479d-836b-aa6e6d8d9af3",
   "metadata": {},
   "source": [
    "## part one"
   ]
  },
  {
   "cell_type": "code",
   "execution_count": 188,
   "id": "1353f51a-c132-4664-8199-f7b2dce35699",
   "metadata": {},
   "outputs": [
    {
     "name": "stdout",
     "output_type": "stream",
     "text": [
      "95437\n"
     ]
    }
   ],
   "source": [
    "output = sum(map(lambda x: x[1], filter(lambda x: x[1] <= 100000, computed_dirs)))"
   ]
  },
  {
   "cell_type": "code",
   "execution_count": 115,
   "id": "652106b6-1190-49b2-b653-b0c1e0d17b6c",
   "metadata": {},
   "outputs": [
    {
     "data": {
      "text/html": [
       "<p>That's the right answer!  You are <span class=\"day-success\">one gold star</span> closer to collecting enough star fruit. <a href=\"/2022/day/7#part2\">[Continue to Part Two]</a></p>"
      ],
      "text/plain": [
       "<IPython.core.display.HTML object>"
      ]
     },
     "metadata": {},
     "output_type": "display_data"
    }
   ],
   "source": [
    "display(HTML(aoc.http_post_answer(2022, day, 1, output)))"
   ]
  },
  {
   "cell_type": "markdown",
   "id": "93406571-d6fd-4ada-81ec-433ac7c463a0",
   "metadata": {},
   "source": [
    "## part two"
   ]
  },
  {
   "cell_type": "code",
   "execution_count": 214,
   "id": "26282b59",
   "metadata": {},
   "outputs": [
    {
     "name": "stdout",
     "output_type": "stream",
     "text": [
      "2086088\n"
     ]
    }
   ],
   "source": [
    "root_dir = next(dir[1] for dir in computed_dirs if dir[0] == \"/\")\n",
    "\n",
    "required_size = 70000000 - root_dir\n",
    "\n",
    "output = sorted(\n",
    "    list(\n",
    "        filter(\n",
    "            lambda x: x[1] + required_size >= 30000000,\n",
    "            computed_dirs,\n",
    "        )\n",
    "    ),\n",
    "    key=lambda x: x[1],\n",
    ")[0][1]\n",
    "print(output)"
   ]
  },
  {
   "cell_type": "code",
   "execution_count": 215,
   "id": "c6bb9838-3095-43fc-950d-aab35c2f7df2",
   "metadata": {},
   "outputs": [
    {
     "data": {
      "text/html": [
       "<p>That's the right answer!  You are <span class=\"day-success\">one gold star</span> closer to collecting enough star fruit.</p>"
      ],
      "text/plain": [
       "<IPython.core.display.HTML object>"
      ]
     },
     "metadata": {},
     "output_type": "display_data"
    }
   ],
   "source": [
    "display(HTML(aoc.http_post_answer(2022, day, 2, output)))"
   ]
  },
  {
   "cell_type": "markdown",
   "id": "0e57f2e6-64b1-4789-b07a-37738db7bb3a",
   "metadata": {},
   "source": [
    "## retrospective\n",
    "\n",
    "i didn't like this one. it took me like, an hour and a half."
   ]
  },
  {
   "cell_type": "code",
   "execution_count": null,
   "id": "e2defaa0-a3e0-418c-89eb-f3f9081bb5d7",
   "metadata": {},
   "outputs": [],
   "source": []
  }
 ],
 "metadata": {
  "kernelspec": {
   "display_name": "Python 3 (ipykernel)",
   "language": "python",
   "name": "python3"
  },
  "language_info": {
   "codemirror_mode": {
    "name": "ipython",
    "version": 3
   },
   "file_extension": ".py",
   "mimetype": "text/x-python",
   "name": "python",
   "nbconvert_exporter": "python",
   "pygments_lexer": "ipython3",
   "version": "3.10.1"
  },
  "vscode": {
   "interpreter": {
    "hash": "549d7d0aaa1a97fb5cdae4f085ba7663ea4b0a22d8d6460bbb3f19c758887726"
   }
  }
 },
 "nbformat": 4,
 "nbformat_minor": 5
}
