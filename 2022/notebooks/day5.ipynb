{
 "cells": [
  {
   "cell_type": "markdown",
   "id": "e6315eeb-185e-4fe8-aea4-2440d8539bd3",
   "metadata": {},
   "source": [
    "# aoc day 5\n",
    "\n",
    "<img src=\"./images/day5.jpeg\" alt=\"Little elves lifting a crate together stylized\" width=\"200\"/>\n",
    "\n",
    "> prompt: *Little elves lifting a crate together stylized*"
   ]
  },
  {
   "cell_type": "code",
   "execution_count": 2,
   "id": "55ecbd17-56be-4a96-85c7-e454bd9fba68",
   "metadata": {},
   "outputs": [],
   "source": [
    "day = 5"
   ]
  },
  {
   "cell_type": "code",
   "execution_count": 3,
   "id": "9e7db449-e0ce-4e20-8e6b-751ecc7352a8",
   "metadata": {
    "jupyter": {
     "source_hidden": true
    },
    "tags": []
   },
   "outputs": [
    {
     "data": {
      "text/html": [
       "\n",
       "                <script type=\"application/javascript\" id=\"jupyter_black\">\n",
       "                (function() {\n",
       "                    if (window.IPython === undefined) {\n",
       "                        return\n",
       "                    }\n",
       "                    var msg = \"WARNING: it looks like you might have loaded \" +\n",
       "                        \"jupyter_black in a non-lab notebook with \" +\n",
       "                        \"`is_lab=True`. Please double check, and if \" +\n",
       "                        \"loading with `%load_ext` please review the README!\"\n",
       "                    console.log(msg)\n",
       "                    alert(msg)\n",
       "                })()\n",
       "                </script>\n",
       "                "
      ],
      "text/plain": [
       "<IPython.core.display.HTML object>"
      ]
     },
     "metadata": {},
     "output_type": "display_data"
    }
   ],
   "source": [
    "%load_ext dotenv\n",
    "%load_ext autoreload\n",
    "%load_ext jupyter_black"
   ]
  },
  {
   "cell_type": "code",
   "execution_count": 4,
   "id": "16727a91-e821-4f32-86a4-6cfd4d3c875b",
   "metadata": {
    "jupyter": {
     "source_hidden": true
    },
    "tags": []
   },
   "outputs": [],
   "source": [
    "import os\n",
    "import sys\n",
    "import math\n",
    "\n",
    "sys.path.append(os.path.join(*os.path.split(os.getcwd())[0:-1]))\n",
    "from scripts import aoc\n",
    "from IPython.display import display, HTML\n",
    "\n",
    "%autoreload 2\n",
    "%dotenv"
   ]
  },
  {
   "cell_type": "code",
   "execution_count": 18,
   "id": "8f8c2595-611f-46f3-96c5-470808566c9c",
   "metadata": {
    "tags": []
   },
   "outputs": [],
   "source": [
    "# problem_input = \"\"\"    [D]\n",
    "# [N] [C]\n",
    "# [Z] [M] [P]\n",
    "#  1   2   3\n",
    "\n",
    "# move 1 from 2 to 1\n",
    "# move 3 from 1 to 3\n",
    "# move 2 from 2 to 1\n",
    "# move 1 from 1 to 2\"\"\"\n",
    "\n",
    "problem_input = aoc.http_get_aoc_day(2022, day)\n",
    "\n",
    "stacks_src, moves_src = problem_input.split(\"\\n\\n\")\n",
    "\n",
    "lines = stacks_src.split(\"\\n\")\n",
    "lines.pop()\n",
    "\n",
    "stacks = []\n",
    "\n",
    "for i in range(1, len(lines[0]) - 1, 4):\n",
    "    stack = []\n",
    "    for line in lines:\n",
    "        char = line[i]\n",
    "        if not char.isspace():\n",
    "            stack.insert(0, char)\n",
    "    stacks.append(stack)\n",
    "\n",
    "moves = []\n",
    "\n",
    "for move in filter(len, moves_src.split(\"\\n\")):\n",
    "    (amount, from_stack, to_stack) = map(\n",
    "        int, filter(lambda x: x.isdigit(), move.split(\" \"))\n",
    "    )\n",
    "    moves.append((amount, from_stack, to_stack))"
   ]
  },
  {
   "cell_type": "code",
   "execution_count": 8,
   "id": "0fdace99-4899-4976-ad62-47fe2ca87c16",
   "metadata": {},
   "outputs": [
    {
     "name": "stdout",
     "output_type": "stream",
     "text": [
      "9938\n"
     ]
    }
   ],
   "source": [
    "print(len(problem_input))"
   ]
  },
  {
   "cell_type": "markdown",
   "id": "2d74e853-dc0f-479d-836b-aa6e6d8d9af3",
   "metadata": {},
   "source": [
    "## part one"
   ]
  },
  {
   "cell_type": "code",
   "execution_count": 19,
   "id": "1353f51a-c132-4664-8199-f7b2dce35699",
   "metadata": {},
   "outputs": [
    {
     "name": "stdout",
     "output_type": "stream",
     "text": [
      "NTWZZWHFV\n"
     ]
    }
   ],
   "source": [
    "for (amount, from_stack, to_stack) in moves:\n",
    "    for i in range(0, amount):\n",
    "        stacks[to_stack - 1].append(stacks[from_stack - 1].pop())\n",
    "\n",
    "output = \"\"\n",
    "for stack in stacks:\n",
    "    output += stack.pop()\n",
    "\n",
    "print(output)"
   ]
  },
  {
   "cell_type": "code",
   "execution_count": 10,
   "id": "652106b6-1190-49b2-b653-b0c1e0d17b6c",
   "metadata": {},
   "outputs": [
    {
     "data": {
      "text/html": [
       "<p>You don't seem to be solving the right level.  Did you already complete it? <a href=\"/2022/day/5\">[Return to Day 5]</a></p>"
      ],
      "text/plain": [
       "<IPython.core.display.HTML object>"
      ]
     },
     "metadata": {},
     "output_type": "display_data"
    }
   ],
   "source": [
    "display(HTML(aoc.http_post_answer(2022, day, 1, output)))"
   ]
  },
  {
   "cell_type": "markdown",
   "id": "93406571-d6fd-4ada-81ec-433ac7c463a0",
   "metadata": {},
   "source": [
    "## part two"
   ]
  },
  {
   "cell_type": "code",
   "execution_count": 16,
   "id": "26282b59",
   "metadata": {},
   "outputs": [
    {
     "name": "stdout",
     "output_type": "stream",
     "text": [
      "BRZGFVBTJ\n"
     ]
    }
   ],
   "source": [
    "for (amount, from_stack, to_stack) in moves:\n",
    "    payload = []\n",
    "    for i in range(0, amount):\n",
    "        payload.append(stacks[from_stack - 1].pop())\n",
    "\n",
    "    payload.reverse()\n",
    "    stacks[to_stack - 1].extend(payload)\n",
    "\n",
    "output = \"\"\n",
    "for stack in stacks:\n",
    "    output += stack.pop()\n",
    "\n",
    "print(output)"
   ]
  },
  {
   "cell_type": "code",
   "execution_count": 136,
   "id": "c6bb9838-3095-43fc-950d-aab35c2f7df2",
   "metadata": {},
   "outputs": [
    {
     "data": {
      "text/html": [
       "<p>You don't seem to be solving the right level.  Did you already complete it? <a href=\"/2022/day/5\">[Return to Day 5]</a></p>"
      ],
      "text/plain": [
       "<IPython.core.display.HTML object>"
      ]
     },
     "metadata": {},
     "output_type": "display_data"
    }
   ],
   "source": [
    "display(HTML(aoc.http_post_answer(2022, day, 2, output)))"
   ]
  },
  {
   "cell_type": "markdown",
   "id": "0e57f2e6-64b1-4789-b07a-37738db7bb3a",
   "metadata": {},
   "source": [
    "## overall\n",
    "\n",
    "it took me about 30 mins to get the parser right, but im proud of it"
   ]
  }
 ],
 "metadata": {
  "kernelspec": {
   "display_name": "Python 3 (ipykernel)",
   "language": "python",
   "name": "python3"
  },
  "language_info": {
   "codemirror_mode": {
    "name": "ipython",
    "version": 3
   },
   "file_extension": ".py",
   "mimetype": "text/x-python",
   "name": "python",
   "nbconvert_exporter": "python",
   "pygments_lexer": "ipython3",
   "version": "3.10.1"
  },
  "vscode": {
   "interpreter": {
    "hash": "549d7d0aaa1a97fb5cdae4f085ba7663ea4b0a22d8d6460bbb3f19c758887726"
   }
  }
 },
 "nbformat": 4,
 "nbformat_minor": 5
}
