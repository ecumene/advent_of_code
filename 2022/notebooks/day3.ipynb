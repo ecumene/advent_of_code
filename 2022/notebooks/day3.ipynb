{
 "cells": [
  {
   "cell_type": "markdown",
   "id": "e6315eeb-185e-4fe8-aea4-2440d8539bd3",
   "metadata": {},
   "source": [
    "# aoc day 3\n",
    "\n",
    "<img src=\"./images/day3.jpeg\" alt=\"Man tending to a zen garden\" width=\"200\"/>\n",
    "\n",
    "> prompt: *an elf filling bags with supplies for a journey into the jungle*\n",
    "\n",
    "\n",
    "look at him go"
   ]
  },
  {
   "cell_type": "markdown",
   "id": "d1c69379-e9c3-4bbf-984c-79156d6f5f39",
   "metadata": {},
   "source": [
    "i was first to finish this day \n",
    "\n",
    "<img src=\"./images/day3.png\" alt=\"Man tending to a zen garden\" width=\"300\"/>"
   ]
  },
  {
   "cell_type": "code",
   "execution_count": 10,
   "id": "55ecbd17-56be-4a96-85c7-e454bd9fba68",
   "metadata": {},
   "outputs": [],
   "source": [
    "day = 3"
   ]
  },
  {
   "cell_type": "code",
   "execution_count": 4,
   "id": "9e7db449-e0ce-4e20-8e6b-751ecc7352a8",
   "metadata": {
    "collapsed": true,
    "jupyter": {
     "outputs_hidden": true,
     "source_hidden": true
    },
    "tags": []
   },
   "outputs": [
    {
     "name": "stdout",
     "output_type": "stream",
     "text": [
      "The dotenv extension is already loaded. To reload it, use:\n",
      "  %reload_ext dotenv\n",
      "The autoreload extension is already loaded. To reload it, use:\n",
      "  %reload_ext autoreload\n"
     ]
    },
    {
     "data": {
      "text/html": [
       "\n",
       "                <script type=\"application/javascript\" id=\"jupyter_black\">\n",
       "                (function() {\n",
       "                    if (window.IPython === undefined) {\n",
       "                        return\n",
       "                    }\n",
       "                    var msg = \"WARNING: it looks like you might have loaded \" +\n",
       "                        \"jupyter_black in a non-lab notebook with \" +\n",
       "                        \"`is_lab=True`. Please double check, and if \" +\n",
       "                        \"loading with `%load_ext` please review the README!\"\n",
       "                    console.log(msg)\n",
       "                    alert(msg)\n",
       "                })()\n",
       "                </script>\n",
       "                "
      ],
      "text/plain": [
       "<IPython.core.display.HTML object>"
      ]
     },
     "metadata": {},
     "output_type": "display_data"
    }
   ],
   "source": [
    "%load_ext dotenv\n",
    "%load_ext autoreload\n",
    "%load_ext jupyter_black"
   ]
  },
  {
   "cell_type": "code",
   "execution_count": 5,
   "id": "16727a91-e821-4f32-86a4-6cfd4d3c875b",
   "metadata": {
    "jupyter": {
     "source_hidden": true
    },
    "tags": []
   },
   "outputs": [],
   "source": [
    "import os\n",
    "import sys\n",
    "\n",
    "sys.path.append(os.path.join(*os.path.split(os.getcwd())[0:-1]))\n",
    "from scripts import aoc\n",
    "from IPython.display import display, HTML\n",
    "\n",
    "%autoreload 2\n",
    "%dotenv"
   ]
  },
  {
   "cell_type": "code",
   "execution_count": 30,
   "id": "8f8c2595-611f-46f3-96c5-470808566c9c",
   "metadata": {
    "tags": []
   },
   "outputs": [],
   "source": [
    "problem_input = aoc.http_get_aoc_day(2022, day)\n",
    "\n",
    "# problem_input = \"\"\"vJrwpWtwJgWrhcsFMMfFFhFp\n",
    "# jqHRNqRjqzjGDLGLrsFMfFZSrLrFZsSL\n",
    "# PmmdzqPrVvPwwTWBwg\n",
    "# wMqvLMZHhHMvwLHjbvcjnnSBnvTQFn\n",
    "# ttgJtRGJQctTZtZT\n",
    "# CrZsJsPPZsGzwwsLwLmpwMDw\"\"\""
   ]
  },
  {
   "cell_type": "code",
   "execution_count": 31,
   "id": "0fdace99-4899-4976-ad62-47fe2ca87c16",
   "metadata": {},
   "outputs": [
    {
     "name": "stdout",
     "output_type": "stream",
     "text": [
      "9598\n"
     ]
    }
   ],
   "source": [
    "print(len(problem_input))"
   ]
  },
  {
   "cell_type": "markdown",
   "id": "2d74e853-dc0f-479d-836b-aa6e6d8d9af3",
   "metadata": {},
   "source": [
    "## part one\n",
    "\n",
    "find the set intersection of each line split in two, find its position in the map, add one"
   ]
  },
  {
   "cell_type": "code",
   "execution_count": 21,
   "id": "26282b59",
   "metadata": {},
   "outputs": [],
   "source": [
    "lines = problem_input.split(\"\\n\")\n",
    "\n",
    "alpha = \"abcdefghijklmnopqrstuvwxyzABCDEFGHIJKLMNOPQRSTUVWXYZ\"\n",
    "\n",
    "score = 0\n",
    "for line in lines:\n",
    "    if len(line) > 0:\n",
    "        a, b = line[: len(line) // 2], line[len(line) // 2 :]\n",
    "        d = \"\".join(set(a) & set(b))\n",
    "        score += alpha.index(d) + 1"
   ]
  },
  {
   "cell_type": "code",
   "execution_count": 22,
   "id": "5e6a2432-883e-432d-be76-1fbc25c09d77",
   "metadata": {},
   "outputs": [
    {
     "name": "stdout",
     "output_type": "stream",
     "text": [
      "7826\n"
     ]
    }
   ],
   "source": [
    "output = score\n",
    "print(output)"
   ]
  },
  {
   "cell_type": "code",
   "execution_count": 23,
   "id": "652106b6-1190-49b2-b653-b0c1e0d17b6c",
   "metadata": {},
   "outputs": [
    {
     "data": {
      "text/html": [
       "<p>You don't seem to be solving the right level.  Did you already complete it? <a href=\"/2022/day/3\">[Return to Day 3]</a></p>"
      ],
      "text/plain": [
       "<IPython.core.display.HTML object>"
      ]
     },
     "metadata": {},
     "output_type": "display_data"
    }
   ],
   "source": [
    "display(HTML(aoc.http_post_answer(2022, day, 1, output)))"
   ]
  },
  {
   "cell_type": "markdown",
   "id": "93406571-d6fd-4ada-81ec-433ac7c463a0",
   "metadata": {},
   "source": [
    "## part two\n",
    "\n",
    "same thing as the first one but uses chunks of lines"
   ]
  },
  {
   "cell_type": "code",
   "execution_count": 27,
   "id": "f1b440a5",
   "metadata": {},
   "outputs": [
    {
     "name": "stdout",
     "output_type": "stream",
     "text": [
      "2577\n"
     ]
    }
   ],
   "source": [
    "lines = problem_input.strip().split(\"\\n\")\n",
    "\n",
    "alpha = \"abcdefghijklmnopqrstuvwxyzABCDEFGHIJKLMNOPQRSTUVWXYZ\"\n",
    "\n",
    "\n",
    "def chunks(lst, n):\n",
    "    \"\"\"Yield successive n-sized chunks from lst.\"\"\"\n",
    "    for i in range(0, len(lst), n):\n",
    "        yield lst[i : i + n]\n",
    "\n",
    "\n",
    "score = 0\n",
    "for lines in chunks(lines, 3):\n",
    "    d = \"\".join(set(lines[0]) & set(lines[1]) & set(lines[2]))\n",
    "    score += alpha.index(d) + 1\n",
    "\n",
    "print(score)"
   ]
  },
  {
   "cell_type": "code",
   "execution_count": 28,
   "id": "bfbee035-c45b-4844-b14c-cd0c74d651eb",
   "metadata": {},
   "outputs": [
    {
     "name": "stdout",
     "output_type": "stream",
     "text": [
      "2577\n"
     ]
    }
   ],
   "source": [
    "output = score\n",
    "print(output)"
   ]
  },
  {
   "cell_type": "code",
   "execution_count": 29,
   "id": "c6bb9838-3095-43fc-950d-aab35c2f7df2",
   "metadata": {},
   "outputs": [
    {
     "data": {
      "text/html": [
       "<p>You don't seem to be solving the right level.  Did you already complete it? <a href=\"/2022/day/3\">[Return to Day 3]</a></p>"
      ],
      "text/plain": [
       "<IPython.core.display.HTML object>"
      ]
     },
     "metadata": {},
     "output_type": "display_data"
    }
   ],
   "source": [
    "display(HTML(aoc.http_post_answer(2022, day, 2, output)))"
   ]
  },
  {
   "cell_type": "markdown",
   "id": "0e57f2e6-64b1-4789-b07a-37738db7bb3a",
   "metadata": {},
   "source": [
    "## overall\n",
    "\n",
    "i liked this problem a lot. its pretty simple and the twist was pretty easy"
   ]
  }
 ],
 "metadata": {
  "kernelspec": {
   "display_name": "Python 3 (ipykernel)",
   "language": "python",
   "name": "python3"
  },
  "language_info": {
   "codemirror_mode": {
    "name": "ipython",
    "version": 3
   },
   "file_extension": ".py",
   "mimetype": "text/x-python",
   "name": "python",
   "nbconvert_exporter": "python",
   "pygments_lexer": "ipython3",
   "version": "3.10.1"
  }
 },
 "nbformat": 4,
 "nbformat_minor": 5
}
