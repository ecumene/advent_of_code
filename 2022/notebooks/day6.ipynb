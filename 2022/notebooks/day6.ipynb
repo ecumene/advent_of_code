{
 "cells": [
  {
   "cell_type": "markdown",
   "id": "e6315eeb-185e-4fe8-aea4-2440d8539bd3",
   "metadata": {},
   "source": [
    "# aoc day 6\n",
    "\n",
    "<img src=\"./images/day6.jpeg\" alt=\"elf holding a handheld device\" width=\"200\"/>\n",
    "\n",
    "> prompt: *elf holding a handheld device*"
   ]
  },
  {
   "cell_type": "code",
   "execution_count": 20,
   "id": "55ecbd17-56be-4a96-85c7-e454bd9fba68",
   "metadata": {},
   "outputs": [],
   "source": [
    "day = 6"
   ]
  },
  {
   "cell_type": "code",
   "execution_count": 21,
   "id": "9e7db449-e0ce-4e20-8e6b-751ecc7352a8",
   "metadata": {
    "jupyter": {
     "source_hidden": true
    },
    "tags": []
   },
   "outputs": [
    {
     "data": {
      "text/html": [
       "\n",
       "                <script type=\"application/javascript\" id=\"jupyter_black\">\n",
       "                (function() {\n",
       "                    if (window.IPython === undefined) {\n",
       "                        return\n",
       "                    }\n",
       "                    var msg = \"WARNING: it looks like you might have loaded \" +\n",
       "                        \"jupyter_black in a non-lab notebook with \" +\n",
       "                        \"`is_lab=True`. Please double check, and if \" +\n",
       "                        \"loading with `%load_ext` please review the README!\"\n",
       "                    console.log(msg)\n",
       "                    alert(msg)\n",
       "                })()\n",
       "                </script>\n",
       "                "
      ],
      "text/plain": [
       "<IPython.core.display.HTML object>"
      ]
     },
     "metadata": {},
     "output_type": "display_data"
    }
   ],
   "source": [
    "%load_ext dotenv\n",
    "%load_ext autoreload\n",
    "%load_ext jupyter_black"
   ]
  },
  {
   "cell_type": "code",
   "execution_count": 22,
   "id": "16727a91-e821-4f32-86a4-6cfd4d3c875b",
   "metadata": {
    "jupyter": {
     "source_hidden": true
    },
    "tags": []
   },
   "outputs": [],
   "source": [
    "import os\n",
    "import sys\n",
    "import math\n",
    "\n",
    "sys.path.append(os.path.join(*os.path.split(os.getcwd())[0:-1]))\n",
    "from scripts import aoc\n",
    "from IPython.display import display, HTML\n",
    "\n",
    "%autoreload 2\n",
    "%dotenv"
   ]
  },
  {
   "cell_type": "code",
   "execution_count": 44,
   "id": "8f8c2595-611f-46f3-96c5-470808566c9c",
   "metadata": {
    "tags": []
   },
   "outputs": [],
   "source": [
    "# problem_input = \"\"\"zcfzfwzzqfrljwzlrfnpqdbhtmscgvjw\"\"\"\n",
    "\n",
    "problem_input = aoc.http_get_aoc_day(2022, day)\n",
    "\n",
    "from itertools import islice\n",
    "\n",
    "def find_marker(problem: str, size: int = 4):\n",
    "    for i in range(len(problem) - size + 1):\n",
    "        if len(set(problem[i : i + size])) == size:\n",
    "            return i + size"
   ]
  },
  {
   "cell_type": "code",
   "execution_count": 37,
   "id": "0fdace99-4899-4976-ad62-47fe2ca87c16",
   "metadata": {},
   "outputs": [
    {
     "name": "stdout",
     "output_type": "stream",
     "text": [
      "4096\n"
     ]
    }
   ],
   "source": [
    "print(len(problem_input))"
   ]
  },
  {
   "cell_type": "markdown",
   "id": "2d74e853-dc0f-479d-836b-aa6e6d8d9af3",
   "metadata": {},
   "source": [
    "## part one"
   ]
  },
  {
   "cell_type": "code",
   "execution_count": 45,
   "id": "1353f51a-c132-4664-8199-f7b2dce35699",
   "metadata": {},
   "outputs": [
    {
     "name": "stdout",
     "output_type": "stream",
     "text": [
      "1566\n"
     ]
    }
   ],
   "source": [
    "output = find_marker(problem_input)\n",
    "\n",
    "print(output)"
   ]
  },
  {
   "cell_type": "code",
   "execution_count": 26,
   "id": "652106b6-1190-49b2-b653-b0c1e0d17b6c",
   "metadata": {},
   "outputs": [
    {
     "data": {
      "text/html": [
       "<p>That's the right answer!  You are <span class=\"day-success\">one gold star</span> closer to collecting enough star fruit. <a href=\"/2022/day/6#part2\">[Continue to Part Two]</a></p>"
      ],
      "text/plain": [
       "<IPython.core.display.HTML object>"
      ]
     },
     "metadata": {},
     "output_type": "display_data"
    }
   ],
   "source": [
    "display(HTML(aoc.http_post_answer(2022, day, 1, output)))"
   ]
  },
  {
   "cell_type": "markdown",
   "id": "93406571-d6fd-4ada-81ec-433ac7c463a0",
   "metadata": {},
   "source": [
    "## part two"
   ]
  },
  {
   "cell_type": "code",
   "execution_count": 46,
   "id": "26282b59",
   "metadata": {},
   "outputs": [
    {
     "name": "stdout",
     "output_type": "stream",
     "text": [
      "2265\n"
     ]
    }
   ],
   "source": [
    "output = find_marker(problem_input, size=14)\n",
    "\n",
    "print(output)"
   ]
  },
  {
   "cell_type": "code",
   "execution_count": 39,
   "id": "c6bb9838-3095-43fc-950d-aab35c2f7df2",
   "metadata": {},
   "outputs": [
    {
     "data": {
      "text/html": [
       "<p>That's the right answer!  You are <span class=\"day-success\">one gold star</span> closer to collecting enough star fruit.</p>"
      ],
      "text/plain": [
       "<IPython.core.display.HTML object>"
      ]
     },
     "metadata": {},
     "output_type": "display_data"
    }
   ],
   "source": [
    "display(HTML(aoc.http_post_answer(2022, day, 2, output)))"
   ]
  },
  {
   "cell_type": "markdown",
   "id": "0e57f2e6-64b1-4789-b07a-37738db7bb3a",
   "metadata": {},
   "source": [
    "## retrospective\n",
    "\n",
    "thank god for sliding windows"
   ]
  }
 ],
 "metadata": {
  "kernelspec": {
   "display_name": "Python 3 (ipykernel)",
   "language": "python",
   "name": "python3"
  },
  "language_info": {
   "codemirror_mode": {
    "name": "ipython",
    "version": 3
   },
   "file_extension": ".py",
   "mimetype": "text/x-python",
   "name": "python",
   "nbconvert_exporter": "python",
   "pygments_lexer": "ipython3",
   "version": "3.10.1"
  },
  "vscode": {
   "interpreter": {
    "hash": "549d7d0aaa1a97fb5cdae4f085ba7663ea4b0a22d8d6460bbb3f19c758887726"
   }
  }
 },
 "nbformat": 4,
 "nbformat_minor": 5
}
