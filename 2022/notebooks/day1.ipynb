{
 "cells": [
  {
   "cell_type": "code",
   "execution_count": 21,
   "id": "9e7db449-e0ce-4e20-8e6b-751ecc7352a8",
   "metadata": {},
   "outputs": [
    {
     "name": "stdout",
     "output_type": "stream",
     "text": [
      "The dotenv extension is already loaded. To reload it, use:\n",
      "  %reload_ext dotenv\n",
      "The autoreload extension is already loaded. To reload it, use:\n",
      "  %reload_ext autoreload\n"
     ]
    }
   ],
   "source": [
    "%load_ext dotenv\n",
    "%load_ext autoreload"
   ]
  },
  {
   "cell_type": "code",
   "execution_count": 22,
   "id": "16727a91-e821-4f32-86a4-6cfd4d3c875b",
   "metadata": {
    "tags": []
   },
   "outputs": [],
   "source": [
    "import os\n",
    "import sys\n",
    "sys.path.append(os.path.join(*os.path.split(os.getcwd())[0:-1]))\n",
    "from scripts import aoc\n",
    "from IPython.display import display, HTML\n",
    "%autoreload 2\n",
    "%dotenv"
   ]
  },
  {
   "cell_type": "code",
   "execution_count": 23,
   "id": "8f8c2595-611f-46f3-96c5-470808566c9c",
   "metadata": {},
   "outputs": [],
   "source": [
    "problem_input = aoc.http_get_aoc_day(2022, 1)\n",
    "# problem_input = \"\"\"1000\n",
    "# 2000\n",
    "# 3000\n",
    "\n",
    "# 4000\n",
    "\n",
    "# 5000\n",
    "# 6000\n",
    "\n",
    "# 7000\n",
    "# 8000\n",
    "# 9000\n",
    "\n",
    "# 10000\n",
    "# \"\"\""
   ]
  },
  {
   "cell_type": "code",
   "execution_count": 30,
   "id": "bfbee035-c45b-4844-b14c-cd0c74d651eb",
   "metadata": {},
   "outputs": [],
   "source": [
    "calories = []\n",
    "\n",
    "for elf in problem_input.split(\"\\n\\n\"):\n",
    "    acc = 0\n",
    "    for calorie in elf.split(\"\\n\"):\n",
    "        if len(calorie) > 0:\n",
    "            acc += int(calorie)\n",
    "    calories.append(acc)\n",
    "\n",
    "calories.sort()\n",
    "output = sum(calories[-3:])"
   ]
  },
  {
   "cell_type": "code",
   "execution_count": 31,
   "id": "35e1bb92-635b-4776-9d02-05c75ad80cb7",
   "metadata": {},
   "outputs": [
    {
     "name": "stdout",
     "output_type": "stream",
     "text": [
      "212836\n"
     ]
    }
   ],
   "source": [
    "print(output)"
   ]
  },
  {
   "cell_type": "code",
   "execution_count": 33,
   "id": "c6bb9838-3095-43fc-950d-aab35c2f7df2",
   "metadata": {},
   "outputs": [
    {
     "data": {
      "text/html": [
       "<p>That's the right answer!  You are <span class=\"day-success\">one gold star</span> closer to collecting enough star fruit.</p>"
      ],
      "text/plain": [
       "<IPython.core.display.HTML object>"
      ]
     },
     "metadata": {},
     "output_type": "display_data"
    }
   ],
   "source": [
    "display(HTML(aoc.http_post_answer(2022, 1, 2, output)))"
   ]
  },
  {
   "cell_type": "code",
   "execution_count": null,
   "id": "d4bbc3c3",
   "metadata": {},
   "outputs": [],
   "source": []
  }
 ],
 "metadata": {
  "kernelspec": {
   "display_name": "Python 3 (ipykernel)",
   "language": "python",
   "name": "python3"
  },
  "language_info": {
   "codemirror_mode": {
    "name": "ipython",
    "version": 3
   },
   "file_extension": ".py",
   "mimetype": "text/x-python",
   "name": "python",
   "nbconvert_exporter": "python",
   "pygments_lexer": "ipython3",
   "version": "3.10.1"
  }
 },
 "nbformat": 4,
 "nbformat_minor": 5
}
