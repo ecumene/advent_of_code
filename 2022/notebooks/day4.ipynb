{
 "cells": [
  {
   "cell_type": "markdown",
   "id": "e6315eeb-185e-4fe8-aea4-2440d8539bd3",
   "metadata": {},
   "source": [
    "# aoc day 4\n",
    "\n",
    "<img src=\"./images/day4.jpeg\" alt=\"elves cleaning up a campsite stylized\" width=\"200\"/>\n",
    "\n",
    "> prompt: *elves cleaning up a campsite stylized*"
   ]
  },
  {
   "cell_type": "code",
   "execution_count": null,
   "id": "55ecbd17-56be-4a96-85c7-e454bd9fba68",
   "metadata": {},
   "outputs": [],
   "source": [
    "day = 4"
   ]
  },
  {
   "cell_type": "code",
   "execution_count": null,
   "id": "9e7db449-e0ce-4e20-8e6b-751ecc7352a8",
   "metadata": {
    "jupyter": {
     "source_hidden": true
    },
    "tags": []
   },
   "outputs": [],
   "source": [
    "%load_ext dotenv\n",
    "%load_ext autoreload\n",
    "%load_ext jupyter_black"
   ]
  },
  {
   "cell_type": "code",
   "execution_count": null,
   "id": "16727a91-e821-4f32-86a4-6cfd4d3c875b",
   "metadata": {
    "jupyter": {
     "source_hidden": true
    },
    "tags": []
   },
   "outputs": [],
   "source": [
    "import os\n",
    "import sys\n",
    "\n",
    "sys.path.append(os.path.join(*os.path.split(os.getcwd())[0:-1]))\n",
    "from scripts import aoc\n",
    "from IPython.display import display, HTML\n",
    "\n",
    "%autoreload 2\n",
    "%dotenv"
   ]
  },
  {
   "cell_type": "code",
   "execution_count": null,
   "id": "8f8c2595-611f-46f3-96c5-470808566c9c",
   "metadata": {
    "tags": []
   },
   "outputs": [],
   "source": [
    "# problem_input = \"\"\"2-4,6-8\n",
    "# 2-3,4-5\n",
    "# 5-7,7-9\n",
    "# 2-8,3-7\n",
    "# 6-6,4-6\n",
    "# 2-6,4-8\"\"\"\n",
    "\n",
    "problem_input = aoc.http_get_aoc_day(2022, day)"
   ]
  },
  {
   "cell_type": "code",
   "execution_count": 34,
   "id": "0fdace99-4899-4976-ad62-47fe2ca87c16",
   "metadata": {},
   "outputs": [
    {
     "name": "stdout",
     "output_type": "stream",
     "text": [
      "11381\n"
     ]
    }
   ],
   "source": [
    "print(len(problem_input))"
   ]
  },
  {
   "cell_type": "markdown",
   "id": "2d74e853-dc0f-479d-836b-aa6e6d8d9af3",
   "metadata": {},
   "source": [
    "## part one\n",
    "\n",
    "check if the ranges are overlapping"
   ]
  },
  {
   "cell_type": "code",
   "execution_count": 30,
   "id": "1353f51a-c132-4664-8199-f7b2dce35699",
   "metadata": {},
   "outputs": [
    {
     "name": "stdout",
     "output_type": "stream",
     "text": [
      "607\n"
     ]
    }
   ],
   "source": [
    "lines = problem_input.split(\"\\n\")\n",
    "\n",
    "\n",
    "def split_ranges(line):\n",
    "    score = 0\n",
    "\n",
    "    range1, range2 = line.split(\",\")\n",
    "    x1, x2 = range1.split(\"-\")\n",
    "    y1, y2 = range2.split(\"-\")\n",
    "\n",
    "    if int(x1) <= int(y1) and int(y2) <= int(x2):\n",
    "        score += 1\n",
    "\n",
    "    if int(y1) <= int(x1) and int(x2) <= int(y2):\n",
    "        score += 1\n",
    "\n",
    "    return score\n",
    "\n",
    "\n",
    "output = 0\n",
    "for line in lines:\n",
    "    if len(line) > 0:\n",
    "        output += split_ranges(line)\n",
    "\n",
    "print(output)"
   ]
  },
  {
   "cell_type": "code",
   "execution_count": null,
   "id": "652106b6-1190-49b2-b653-b0c1e0d17b6c",
   "metadata": {},
   "outputs": [],
   "source": [
    "display(HTML(aoc.http_post_answer(2022, day, 1, output)))"
   ]
  },
  {
   "cell_type": "markdown",
   "id": "93406571-d6fd-4ada-81ec-433ac7c463a0",
   "metadata": {},
   "source": [
    "## part two\n",
    "\n",
    "same thing as the first one but change the range check to exclude partial matches"
   ]
  },
  {
   "cell_type": "code",
   "execution_count": 32,
   "id": "26282b59",
   "metadata": {},
   "outputs": [
    {
     "name": "stdout",
     "output_type": "stream",
     "text": [
      "911\n"
     ]
    }
   ],
   "source": [
    "lines = problem_input.split(\"\\n\")\n",
    "\n",
    "\n",
    "def split_ranges(line):\n",
    "    score = 0\n",
    "\n",
    "    range1, range2 = line.split(\",\")\n",
    "    x1, x2 = range1.split(\"-\")\n",
    "    y1, y2 = range2.split(\"-\")\n",
    "\n",
    "    if int(x1) <= int(y2) and int(y1) <= int(x2):\n",
    "        score += 1\n",
    "\n",
    "    return score\n",
    "\n",
    "output = 0\n",
    "for line in lines:\n",
    "    if len(line) > 0:\n",
    "        output += split_ranges(line)\n",
    "\n",
    "print(output)"
   ]
  },
  {
   "cell_type": "code",
   "execution_count": null,
   "id": "c6bb9838-3095-43fc-950d-aab35c2f7df2",
   "metadata": {},
   "outputs": [],
   "source": [
    "display(HTML(aoc.http_post_answer(2022, day, 2, output)))"
   ]
  },
  {
   "cell_type": "markdown",
   "id": "0e57f2e6-64b1-4789-b07a-37738db7bb3a",
   "metadata": {},
   "source": [
    "## overall\n",
    "\n",
    "i tripped over x1,x2 y1,y2 being strings not integers"
   ]
  }
 ],
 "metadata": {
  "kernelspec": {
   "display_name": "Python 3 (ipykernel)",
   "language": "python",
   "name": "python3"
  },
  "language_info": {
   "codemirror_mode": {
    "name": "ipython",
    "version": 3
   },
   "file_extension": ".py",
   "mimetype": "text/x-python",
   "name": "python",
   "nbconvert_exporter": "python",
   "pygments_lexer": "ipython3",
   "version": "3.10.1"
  },
  "vscode": {
   "interpreter": {
    "hash": "549d7d0aaa1a97fb5cdae4f085ba7663ea4b0a22d8d6460bbb3f19c758887726"
   }
  }
 },
 "nbformat": 4,
 "nbformat_minor": 5
}
