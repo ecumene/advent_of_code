{
 "cells": [
  {
   "cell_type": "code",
   "execution_count": 16,
   "id": "9e7db449-e0ce-4e20-8e6b-751ecc7352a8",
   "metadata": {},
   "outputs": [
    {
     "name": "stdout",
     "output_type": "stream",
     "text": [
      "The dotenv extension is already loaded. To reload it, use:\n",
      "  %reload_ext dotenv\n",
      "The autoreload extension is already loaded. To reload it, use:\n",
      "  %reload_ext autoreload\n"
     ]
    }
   ],
   "source": [
    "%load_ext dotenv\n",
    "%load_ext autoreload"
   ]
  },
  {
   "cell_type": "code",
   "execution_count": 23,
   "id": "16727a91-e821-4f32-86a4-6cfd4d3c875b",
   "metadata": {
    "tags": []
   },
   "outputs": [],
   "source": [
    "import os\n",
    "import sys\n",
    "sys.path.append(os.path.join(*os.path.split(os.getcwd())[0:-1]))\n",
    "from scripts import aoc\n",
    "from IPython.display import display, HTML\n",
    "%autoreload 2\n",
    "%dotenv"
   ]
  },
  {
   "cell_type": "code",
   "execution_count": 9,
   "id": "8f8c2595-611f-46f3-96c5-470808566c9c",
   "metadata": {},
   "outputs": [],
   "source": [
    "problem_input = aoc.http_get_aoc_day(2021, 1)"
   ]
  },
  {
   "cell_type": "code",
   "execution_count": 10,
   "id": "bfbee035-c45b-4844-b14c-cd0c74d651eb",
   "metadata": {},
   "outputs": [
    {
     "name": "stdout",
     "output_type": "stream",
     "text": [
      "9788\n"
     ]
    }
   ],
   "source": [
    "print(len(problem_input))"
   ]
  },
  {
   "cell_type": "code",
   "execution_count": 11,
   "id": "35e1bb92-635b-4776-9d02-05c75ad80cb7",
   "metadata": {},
   "outputs": [],
   "source": [
    "output = 100"
   ]
  },
  {
   "cell_type": "code",
   "execution_count": 26,
   "id": "c6bb9838-3095-43fc-950d-aab35c2f7df2",
   "metadata": {},
   "outputs": [
    {
     "data": {
      "text/html": [
       "<p>You gave an answer too recently; you have to wait after submitting an answer before trying again.  You have 13s left to wait. <a href=\"/2021/day/15\">[Return to Day 15]</a></p>"
      ],
      "text/plain": [
       "<IPython.core.display.HTML object>"
      ]
     },
     "metadata": {},
     "output_type": "display_data"
    }
   ],
   "source": [
    "display(HTML(aoc.http_post_answer(2021, 15, 1, output)))"
   ]
  }
 ],
 "metadata": {
  "kernelspec": {
   "display_name": "Python 3 (ipykernel)",
   "language": "python",
   "name": "python3"
  },
  "language_info": {
   "codemirror_mode": {
    "name": "ipython",
    "version": 3
   },
   "file_extension": ".py",
   "mimetype": "text/x-python",
   "name": "python",
   "nbconvert_exporter": "python",
   "pygments_lexer": "ipython3",
   "version": "3.10.1"
  }
 },
 "nbformat": 4,
 "nbformat_minor": 5
}
