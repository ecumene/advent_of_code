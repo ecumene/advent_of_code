{
 "cells": [
  {
   "cell_type": "markdown",
   "id": "31bb05ac-f659-46fc-9584-c024fa074cb6",
   "metadata": {
    "tags": []
   },
   "source": [
    "# aoc day 2\n",
    "\n",
    "<img src=\"./images/day2.jpeg\" alt=\"Man tending to a zen garden\" width=\"200\"/>\n",
    "\n",
    "> prompt: *Man tending to a zen garden*\n",
    "\n",
    "\n",
    "im giving python an honest chance. a real go at it. maybe ill have a zen-of-python epiphany"
   ]
  },
  {
   "cell_type": "code",
   "execution_count": 1,
   "id": "82a7aa11-a2cb-49fb-8642-2df89eda25e8",
   "metadata": {
    "tags": []
   },
   "outputs": [],
   "source": [
    "%load_ext dotenv\n",
    "%load_ext autoreload"
   ]
  },
  {
   "cell_type": "code",
   "execution_count": 2,
   "id": "41d92fba-282c-45b7-bde0-03a3618779e3",
   "metadata": {
    "tags": []
   },
   "outputs": [
    {
     "ename": "ModuleNotFoundError",
     "evalue": "No module named 'lxml'",
     "output_type": "error",
     "traceback": [
      "\u001b[0;31m---------------------------------------------------------------------------\u001b[0m",
      "\u001b[0;31mModuleNotFoundError\u001b[0m                       Traceback (most recent call last)",
      "Cell \u001b[0;32mIn [2], line 5\u001b[0m\n\u001b[1;32m      2\u001b[0m \u001b[38;5;28;01mimport\u001b[39;00m \u001b[38;5;21;01msys\u001b[39;00m\n\u001b[1;32m      4\u001b[0m sys\u001b[38;5;241m.\u001b[39mpath\u001b[38;5;241m.\u001b[39mappend(os\u001b[38;5;241m.\u001b[39mpath\u001b[38;5;241m.\u001b[39mjoin(\u001b[38;5;241m*\u001b[39mos\u001b[38;5;241m.\u001b[39mpath\u001b[38;5;241m.\u001b[39msplit(os\u001b[38;5;241m.\u001b[39mgetcwd())[\u001b[38;5;241m0\u001b[39m:\u001b[38;5;241m-\u001b[39m\u001b[38;5;241m1\u001b[39m]))\n\u001b[0;32m----> 5\u001b[0m \u001b[38;5;28;01mfrom\u001b[39;00m \u001b[38;5;21;01mscripts\u001b[39;00m \u001b[38;5;28;01mimport\u001b[39;00m aoc\n\u001b[1;32m      6\u001b[0m \u001b[38;5;28;01mfrom\u001b[39;00m \u001b[38;5;21;01mIPython\u001b[39;00m\u001b[38;5;21;01m.\u001b[39;00m\u001b[38;5;21;01mdisplay\u001b[39;00m \u001b[38;5;28;01mimport\u001b[39;00m display, HTML\n\u001b[1;32m      8\u001b[0m get_ipython()\u001b[38;5;241m.\u001b[39mrun_line_magic(\u001b[38;5;124m'\u001b[39m\u001b[38;5;124mautoreload\u001b[39m\u001b[38;5;124m'\u001b[39m, \u001b[38;5;124m'\u001b[39m\u001b[38;5;124m2\u001b[39m\u001b[38;5;124m'\u001b[39m)\n",
      "File \u001b[0;32m~/advent_of_code/2022/scripts/aoc.py:4\u001b[0m\n\u001b[1;32m      1\u001b[0m \u001b[38;5;28;01mimport\u001b[39;00m \u001b[38;5;21;01mos\u001b[39;00m\n\u001b[1;32m      3\u001b[0m \u001b[38;5;28;01mimport\u001b[39;00m \u001b[38;5;21;01mrequests\u001b[39;00m\n\u001b[0;32m----> 4\u001b[0m \u001b[38;5;28;01mfrom\u001b[39;00m \u001b[38;5;21;01mparsel\u001b[39;00m \u001b[38;5;28;01mimport\u001b[39;00m Selector\n\u001b[1;32m      7\u001b[0m \u001b[38;5;28;01mdef\u001b[39;00m \u001b[38;5;21mhttp_get_aoc_day\u001b[39m(year: \u001b[38;5;28mint\u001b[39m, day: \u001b[38;5;28mint\u001b[39m) \u001b[38;5;241m-\u001b[39m\u001b[38;5;241m>\u001b[39m \u001b[38;5;28mstr\u001b[39m:\n\u001b[1;32m      8\u001b[0m     data \u001b[38;5;241m=\u001b[39m requests\u001b[38;5;241m.\u001b[39mget(\n\u001b[1;32m      9\u001b[0m         \u001b[38;5;124mf\u001b[39m\u001b[38;5;124m\"\u001b[39m\u001b[38;5;124mhttps://adventofcode.com/\u001b[39m\u001b[38;5;132;01m{\u001b[39;00myear\u001b[38;5;132;01m}\u001b[39;00m\u001b[38;5;124m/day/\u001b[39m\u001b[38;5;132;01m{\u001b[39;00mday\u001b[38;5;132;01m}\u001b[39;00m\u001b[38;5;124m/input\u001b[39m\u001b[38;5;124m\"\u001b[39m,\n\u001b[1;32m     10\u001b[0m         cookies\u001b[38;5;241m=\u001b[39m{\u001b[38;5;124m\"\u001b[39m\u001b[38;5;124msession\u001b[39m\u001b[38;5;124m\"\u001b[39m: os\u001b[38;5;241m.\u001b[39mgetenv(\u001b[38;5;124m\"\u001b[39m\u001b[38;5;124mAOC_COOKIE\u001b[39m\u001b[38;5;124m\"\u001b[39m)},\n\u001b[1;32m     11\u001b[0m     )\n",
      "File \u001b[0;32m~/.pyenv/versions/3.10.1/lib/python3.10/site-packages/parsel/__init__.py:16\u001b[0m\n\u001b[1;32m      8\u001b[0m __version__ \u001b[38;5;241m=\u001b[39m \u001b[38;5;124m\"\u001b[39m\u001b[38;5;124m1.7.0\u001b[39m\u001b[38;5;124m\"\u001b[39m\n\u001b[1;32m      9\u001b[0m __all__ \u001b[38;5;241m=\u001b[39m [\n\u001b[1;32m     10\u001b[0m     \u001b[38;5;124m\"\u001b[39m\u001b[38;5;124mSelector\u001b[39m\u001b[38;5;124m\"\u001b[39m,\n\u001b[1;32m     11\u001b[0m     \u001b[38;5;124m\"\u001b[39m\u001b[38;5;124mSelectorList\u001b[39m\u001b[38;5;124m\"\u001b[39m,\n\u001b[1;32m     12\u001b[0m     \u001b[38;5;124m\"\u001b[39m\u001b[38;5;124mcss2xpath\u001b[39m\u001b[38;5;124m\"\u001b[39m,\n\u001b[1;32m     13\u001b[0m     \u001b[38;5;124m\"\u001b[39m\u001b[38;5;124mxpathfuncs\u001b[39m\u001b[38;5;124m\"\u001b[39m,\n\u001b[1;32m     14\u001b[0m ]\n\u001b[0;32m---> 16\u001b[0m \u001b[38;5;28;01mfrom\u001b[39;00m \u001b[38;5;21;01mparsel\u001b[39;00m\u001b[38;5;21;01m.\u001b[39;00m\u001b[38;5;21;01mselector\u001b[39;00m \u001b[38;5;28;01mimport\u001b[39;00m Selector, SelectorList  \u001b[38;5;66;03m# NOQA\u001b[39;00m\n\u001b[1;32m     17\u001b[0m \u001b[38;5;28;01mfrom\u001b[39;00m \u001b[38;5;21;01mparsel\u001b[39;00m\u001b[38;5;21;01m.\u001b[39;00m\u001b[38;5;21;01mcsstranslator\u001b[39;00m \u001b[38;5;28;01mimport\u001b[39;00m css2xpath  \u001b[38;5;66;03m# NOQA\u001b[39;00m\n\u001b[1;32m     18\u001b[0m \u001b[38;5;28;01mfrom\u001b[39;00m \u001b[38;5;21;01mparsel\u001b[39;00m \u001b[38;5;28;01mimport\u001b[39;00m xpathfuncs  \u001b[38;5;66;03m# NOQA\u001b[39;00m\n",
      "File \u001b[0;32m~/.pyenv/versions/3.10.1/lib/python3.10/site-packages/parsel/selector.py:21\u001b[0m\n\u001b[1;32m     18\u001b[0m \u001b[38;5;28;01mfrom\u001b[39;00m \u001b[38;5;21;01mwarnings\u001b[39;00m \u001b[38;5;28;01mimport\u001b[39;00m warn\n\u001b[1;32m     20\u001b[0m \u001b[38;5;28;01mfrom\u001b[39;00m \u001b[38;5;21;01mcssselect\u001b[39;00m \u001b[38;5;28;01mimport\u001b[39;00m GenericTranslator \u001b[38;5;28;01mas\u001b[39;00m OriginalGenericTranslator\n\u001b[0;32m---> 21\u001b[0m \u001b[38;5;28;01mfrom\u001b[39;00m \u001b[38;5;21;01mlxml\u001b[39;00m \u001b[38;5;28;01mimport\u001b[39;00m etree, html\n\u001b[1;32m     22\u001b[0m \u001b[38;5;28;01mfrom\u001b[39;00m \u001b[38;5;21;01mpkg_resources\u001b[39;00m \u001b[38;5;28;01mimport\u001b[39;00m parse_version\n\u001b[1;32m     24\u001b[0m \u001b[38;5;28;01mfrom\u001b[39;00m \u001b[38;5;21;01m.\u001b[39;00m\u001b[38;5;21;01mcsstranslator\u001b[39;00m \u001b[38;5;28;01mimport\u001b[39;00m GenericTranslator, HTMLTranslator\n",
      "\u001b[0;31mModuleNotFoundError\u001b[0m: No module named 'lxml'"
     ]
    }
   ],
   "source": [
    "import os\n",
    "import sys\n",
    "\n",
    "sys.path.append(os.path.join(*os.path.split(os.getcwd())[0:-1]))\n",
    "from scripts import aoc\n",
    "from IPython.display import display, HTML\n",
    "\n",
    "%autoreload 2\n",
    "%dotenv"
   ]
  },
  {
   "cell_type": "code",
   "execution_count": 142,
   "id": "11f9290a-b873-4cc6-825f-a7b4f3c44912",
   "metadata": {},
   "outputs": [],
   "source": [
    "# problem_input = aoc.http_get_aoc_day(2022, 2)\n",
    "problem_input = \"\"\"\n",
    "A Y\n",
    "B X\n",
    "C Z\n",
    "\"\"\""
   ]
  },
  {
   "cell_type": "markdown",
   "id": "b20b7c11-a6a4-47ec-8926-ca271015fb9e",
   "metadata": {},
   "source": [
    "## Preprocessing\n",
    "\n",
    "turns the problem input into:\n",
    "\n",
    "```python\n",
    "theirs = (\"A\", \"B\", \"C\")\n",
    "ours = (\"X\", \"Y\", \"Z\")\n",
    "```"
   ]
  },
  {
   "cell_type": "code",
   "execution_count": 155,
   "id": "46526880-c701-47ef-a4bf-6f42ac39c037",
   "metadata": {
    "tags": []
   },
   "outputs": [],
   "source": [
    "theirs = tuple(\n",
    "    map(lambda x: x[0], filter(lambda x: len(x) > 0, problem_input.split(\"\\n\")))\n",
    ")\n",
    "ours = tuple(\n",
    "    map(lambda x: x[2], filter(lambda x: len(x) > 0, problem_input.split(\"\\n\")))\n",
    ")"
   ]
  },
  {
   "cell_type": "markdown",
   "id": "676de77d-90c6-4cab-a115-969bd0cc7763",
   "metadata": {},
   "source": [
    "## dirty Maps\n",
    "\n",
    "im not a fan of this for performance at all and i came to regret it after. but i like how its readable"
   ]
  },
  {
   "cell_type": "code",
   "execution_count": 156,
   "id": "5dd9f9a3-2e42-4b49-8e93-b84d588fd4a9",
   "metadata": {},
   "outputs": [],
   "source": [
    "outcomes = {\n",
    "    (\"X\", \"C\"): True,\n",
    "    (\"X\", \"B\"): False,\n",
    "    (\"Y\", \"A\"): True,\n",
    "    (\"Y\", \"C\"): False,\n",
    "    (\"Z\", \"A\"): False,\n",
    "    (\"Z\", \"B\"): True,\n",
    "}\n",
    "\n",
    "mapping = {\"A\": \"X\", \"B\": \"Y\", \"C\": \"Z\"}"
   ]
  },
  {
   "cell_type": "markdown",
   "id": "68a5ba3e-59f5-47ef-9cde-a7bde8d96cd2",
   "metadata": {
    "jp-MarkdownHeadingCollapsed": true,
    "tags": []
   },
   "source": [
    "## round 1️⃣\n",
    "\n",
    "i sat for a while scratching my head **What did I do wrong??** i misread \"tie\" as meaning no points. (._.)"
   ]
  },
  {
   "cell_type": "code",
   "execution_count": null,
   "id": "7de584c4-7bb8-497f-b4c3-f1e0bd38de81",
   "metadata": {},
   "outputs": [],
   "source": [
    "score = 0\n",
    "\n",
    "for i in range(0, len(ours)):\n",
    "    try:\n",
    "        if outcomes[(ours[i], theirs[i])]:\n",
    "            score += 6\n",
    "    except:\n",
    "        score += 3\n",
    "\n",
    "    if ours[i] == \"X\":\n",
    "        score += 1\n",
    "    if ours[i] == \"Y\":\n",
    "        score += 2\n",
    "    if ours[i] == \"Z\":\n",
    "        score += 3"
   ]
  },
  {
   "cell_type": "markdown",
   "id": "8a021970-4ce3-4445-85ca-823cfc460c64",
   "metadata": {},
   "source": [
    "*Sainity check...*"
   ]
  },
  {
   "cell_type": "code",
   "execution_count": 158,
   "id": "6d842771-fdd1-4483-84dd-5d6c0cb71f26",
   "metadata": {},
   "outputs": [
    {
     "name": "stdout",
     "output_type": "stream",
     "text": [
      "15\n"
     ]
    }
   ],
   "source": [
    "output = score\n",
    "print(output)"
   ]
  },
  {
   "cell_type": "code",
   "execution_count": null,
   "id": "f1fa488b-0527-4ce4-9947-bc102b0ba387",
   "metadata": {},
   "outputs": [],
   "source": [
    "display(HTML(aoc.http_post_answer(2022, 2, 1, output)))"
   ]
  },
  {
   "cell_type": "markdown",
   "id": "310e1ad0-60e2-4b5a-b4ff-e86a1d788026",
   "metadata": {
    "tags": []
   },
   "source": [
    "## round 2️⃣\n",
    "\n",
    "this went smoother than the first time, but with worse code. i do like how this kinda reads like english:\n",
    "\n",
    "```python\n",
    "# Find next ...        outcome key   ... false (we lose) ... and ... theirs is k[1] ... k[0]\n",
    "ours = next(k for k in outcomes.keys() if not outcomes[k] and k[1] is theirs[i])[0]\n",
    "```\n",
    "\n",
    "or, i think it does xD"
   ]
  },
  {
   "cell_type": "code",
   "execution_count": 175,
   "id": "1dfef053-ee17-4852-987c-4bfdde9a8b8b",
   "metadata": {
    "tags": []
   },
   "outputs": [],
   "source": [
    "score = 0\n",
    "\n",
    "for i in range(0, len(ours)):\n",
    "    if ours[i] == \"Y\":\n",
    "        sub_ours = mapping[theirs[i]]\n",
    "    elif ours[i] == \"X\":\n",
    "        sub_ours = next(\n",
    "            k for k in outcomes.keys() if not outcomes[k] and k[1] is theirs[i]\n",
    "        )[0]\n",
    "    elif ours[i] == \"Z\":\n",
    "        sub_ours = next(\n",
    "            k for k in outcomes.keys() if outcomes[k] and k[1] is theirs[i]\n",
    "        )[0]\n",
    "\n",
    "    try:\n",
    "        if outcomes[(sub_ours, theirs[i])]:\n",
    "            score += 6\n",
    "    except:\n",
    "        score += 3\n",
    "\n",
    "    if sub_ours == \"X\":\n",
    "        score += 1\n",
    "    if sub_ours == \"Y\":\n",
    "        score += 2\n",
    "    if sub_ours == \"Z\":\n",
    "        score += 3"
   ]
  },
  {
   "cell_type": "code",
   "execution_count": 176,
   "id": "5b37b27e-a87c-4ba8-987b-a43814b3fd1a",
   "metadata": {},
   "outputs": [
    {
     "name": "stdout",
     "output_type": "stream",
     "text": [
      "12\n"
     ]
    }
   ],
   "source": [
    "output = score\n",
    "print(output)"
   ]
  },
  {
   "cell_type": "code",
   "execution_count": 123,
   "id": "48ea6fe0-5796-4952-8838-393b51c3a6a0",
   "metadata": {},
   "outputs": [
    {
     "data": {
      "text/html": [
       "<p>That's the right answer!  You are <span class=\"day-success\">one gold star</span> closer to collecting enough star fruit.</p>"
      ],
      "text/plain": [
       "<IPython.core.display.HTML object>"
      ]
     },
     "metadata": {},
     "output_type": "display_data"
    }
   ],
   "source": [
    "display(HTML(aoc.http_post_answer(2022, 2, 2, output)))"
   ]
  },
  {
   "cell_type": "markdown",
   "id": "117e100f-5fc5-41f4-a83b-1464c94936e2",
   "metadata": {},
   "source": [
    "## overall\n",
    "\n",
    "i think i did well. im getting the hang of this whole jupyter thing. it is janky but\n",
    "useful. its a nice house but i cant see myself moving in"
   ]
  }
 ],
 "metadata": {
  "kernelspec": {
   "display_name": "Python 3 (ipykernel)",
   "language": "python",
   "name": "python3"
  },
  "language_info": {
   "codemirror_mode": {
    "name": "ipython",
    "version": 3
   },
   "file_extension": ".py",
   "mimetype": "text/x-python",
   "name": "python",
   "nbconvert_exporter": "python",
   "pygments_lexer": "ipython3",
   "version": "3.10.1"
  }
 },
 "nbformat": 4,
 "nbformat_minor": 5
}
