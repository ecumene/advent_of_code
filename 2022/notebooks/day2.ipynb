{
 "cells": [
  {
   "cell_type": "markdown",
   "id": "31bb05ac-f659-46fc-9584-c024fa074cb6",
   "metadata": {
    "tags": []
   },
   "source": [
    "# AOC Day 2\n",
    "\n",
    "<img src=\"./images/day2.jpeg\" alt=\"Man tending to a zen garden\" width=\"200\"/>\n",
    "\n",
    "> prompt: *Man tending to a zen garden*\n",
    "\n",
    "\n",
    "im giving python an honest chance. a real go at it. maybe ill have a zen-of-python epiphany"
   ]
  },
  {
   "cell_type": "code",
   "execution_count": 1,
   "id": "82a7aa11-a2cb-49fb-8642-2df89eda25e8",
   "metadata": {
    "jupyter": {
     "source_hidden": true
    },
    "tags": []
   },
   "outputs": [],
   "source": [
    "%load_ext dotenv\n",
    "%load_ext autoreload"
   ]
  },
  {
   "cell_type": "code",
   "execution_count": 2,
   "id": "41d92fba-282c-45b7-bde0-03a3618779e3",
   "metadata": {
    "jupyter": {
     "source_hidden": true
    },
    "tags": []
   },
   "outputs": [],
   "source": [
    "import os\n",
    "import sys\n",
    "sys.path.append(os.path.join(*os.path.split(os.getcwd())[0:-1]))\n",
    "from scripts import aoc\n",
    "from IPython.display import display, HTML\n",
    "%autoreload 2\n",
    "%dotenv"
   ]
  },
  {
   "cell_type": "code",
   "execution_count": 142,
   "id": "11f9290a-b873-4cc6-825f-a7b4f3c44912",
   "metadata": {},
   "outputs": [],
   "source": [
    "# problem_input = aoc.http_get_aoc_day(2022, 2)\n",
    "problem_input = \"\"\"\n",
    "A Y\n",
    "B X\n",
    "C Z\n",
    "\"\"\""
   ]
  },
  {
   "cell_type": "markdown",
   "id": "b20b7c11-a6a4-47ec-8926-ca271015fb9e",
   "metadata": {},
   "source": [
    "## Preprocessing\n",
    "\n",
    "turns the problem input into:\n",
    "\n",
    "```python\n",
    "theirs = (\"A\", \"B\", \"C\")\n",
    "ours = (\"X\", \"Y\", \"Z\")\n",
    "```"
   ]
  },
  {
   "cell_type": "code",
   "execution_count": 155,
   "id": "46526880-c701-47ef-a4bf-6f42ac39c037",
   "metadata": {
    "tags": []
   },
   "outputs": [],
   "source": [
    "theirs = tuple(map(lambda x: x[0], filter(lambda x: len(x) > 0, problem_input.split(\"\\n\"))))\n",
    "ours = tuple(map(lambda x: x[2], filter(lambda x: len(x) > 0, problem_input.split(\"\\n\"))))"
   ]
  },
  {
   "cell_type": "markdown",
   "id": "676de77d-90c6-4cab-a115-969bd0cc7763",
   "metadata": {},
   "source": [
    "## Dirty Maps\n",
    "\n",
    "im not a fan of this for performance at all and i came to regret it after. but i like how its readable"
   ]
  },
  {
   "cell_type": "code",
   "execution_count": 156,
   "id": "5dd9f9a3-2e42-4b49-8e93-b84d588fd4a9",
   "metadata": {},
   "outputs": [],
   "source": [
    "outcomes = {\n",
    "    ('X', 'C'): True,\n",
    "    ('X', 'B'): False,\n",
    "    ('Y', 'A'): True,\n",
    "    ('Y', 'C'): False,\n",
    "    ('Z', 'A'): False,\n",
    "    ('Z', 'B'): True\n",
    "}\n",
    "\n",
    "mapping = {\"A\": \"X\", \"B\": \"Y\", \"C\": \"Z\"}"
   ]
  },
  {
   "cell_type": "markdown",
   "id": "68a5ba3e-59f5-47ef-9cde-a7bde8d96cd2",
   "metadata": {
    "jp-MarkdownHeadingCollapsed": true,
    "tags": []
   },
   "source": [
    "## round 1️⃣\n",
    "\n",
    "i sat for a while scratching my head **What did I do wrong??** i misread \"tie\" as meaning no points. (._.)"
   ]
  },
  {
   "cell_type": "code",
   "execution_count": null,
   "id": "7de584c4-7bb8-497f-b4c3-f1e0bd38de81",
   "metadata": {},
   "outputs": [],
   "source": [
    "score = 0\n",
    "\n",
    "for i in range(0, len(ours)):\n",
    "    try:\n",
    "        if outcomes[(ours[i], theirs[i])]:\n",
    "            score += 6\n",
    "    except:\n",
    "        score += 3\n",
    "    \n",
    "    if ours[i] == \"X\":\n",
    "        score += 1\n",
    "    if ours[i] == \"Y\":\n",
    "        score += 2\n",
    "    if ours[i] == \"Z\":\n",
    "        score += 3"
   ]
  },
  {
   "cell_type": "markdown",
   "id": "8a021970-4ce3-4445-85ca-823cfc460c64",
   "metadata": {},
   "source": [
    "*Sainity check...*"
   ]
  },
  {
   "cell_type": "code",
   "execution_count": 158,
   "id": "6d842771-fdd1-4483-84dd-5d6c0cb71f26",
   "metadata": {},
   "outputs": [
    {
     "name": "stdout",
     "output_type": "stream",
     "text": [
      "15\n"
     ]
    }
   ],
   "source": [
    "output = score\n",
    "print(output)"
   ]
  },
  {
   "cell_type": "code",
   "execution_count": null,
   "id": "f1fa488b-0527-4ce4-9947-bc102b0ba387",
   "metadata": {},
   "outputs": [],
   "source": [
    "display(HTML(aoc.http_post_answer(2022, 2, 1, output)))"
   ]
  },
  {
   "cell_type": "markdown",
   "id": "310e1ad0-60e2-4b5a-b4ff-e86a1d788026",
   "metadata": {
    "jp-MarkdownHeadingCollapsed": true,
    "tags": []
   },
   "source": [
    "## round 2️⃣\n",
    "\n",
    "this went smoother than the first time, but with worse code. i do like how this kinda reads like english:\n",
    "\n",
    "```python\n",
    "# Find next ...        outcome key   ... false (we lose) ... and ... theirs is k[1] ... k[0]\n",
    "ours = next(k for k in outcomes.keys() if not outcomes[k] and k[1] is theirs[i])[0]\n",
    "```\n",
    "\n",
    "or, i think it does xD"
   ]
  },
  {
   "cell_type": "code",
   "execution_count": 175,
   "id": "1dfef053-ee17-4852-987c-4bfdde9a8b8b",
   "metadata": {
    "tags": []
   },
   "outputs": [],
   "source": [
    "score = 0\n",
    "\n",
    "for i in range(0, len(ours)):\n",
    "    if ours[i] == \"Y\":\n",
    "        sub_ours = mapping[theirs[i]]\n",
    "    elif ours[i] == \"X\":\n",
    "        sub_ours = next(k for k in outcomes.keys() if not outcomes[k] and k[1] is theirs[i])[0]\n",
    "    elif ours[i] == \"Z\":\n",
    "        sub_ours = next(k for k in outcomes.keys() if outcomes[k] and k[1] is theirs[i])[0]\n",
    "        \n",
    "    try:\n",
    "        if outcomes[(sub_ours, theirs[i])]:\n",
    "            score += 6\n",
    "    except:\n",
    "        score += 3\n",
    "    \n",
    "    if sub_ours == \"X\":\n",
    "        score += 1\n",
    "    if sub_ours == \"Y\":\n",
    "        score += 2\n",
    "    if sub_ours == \"Z\":\n",
    "        score += 3"
   ]
  },
  {
   "cell_type": "code",
   "execution_count": 176,
   "id": "5b37b27e-a87c-4ba8-987b-a43814b3fd1a",
   "metadata": {},
   "outputs": [
    {
     "name": "stdout",
     "output_type": "stream",
     "text": [
      "12\n"
     ]
    }
   ],
   "source": [
    "output = score\n",
    "print(output)"
   ]
  },
  {
   "cell_type": "code",
   "execution_count": 123,
   "id": "48ea6fe0-5796-4952-8838-393b51c3a6a0",
   "metadata": {},
   "outputs": [
    {
     "data": {
      "text/html": [
       "<p>That's the right answer!  You are <span class=\"day-success\">one gold star</span> closer to collecting enough star fruit.</p>"
      ],
      "text/plain": [
       "<IPython.core.display.HTML object>"
      ]
     },
     "metadata": {},
     "output_type": "display_data"
    }
   ],
   "source": [
    "display(HTML(aoc.http_post_answer(2022, 2, 2, output)))"
   ]
  },
  {
   "cell_type": "code",
   "execution_count": null,
   "id": "addd343b-ba9b-4f66-b5ff-5fc1b755c090",
   "metadata": {},
   "outputs": [],
   "source": [
    "## Overall\n",
    "\n",
    "i think i did well. im getting the hang of this whole jupyter thing. it is janky but useful. its a nice house but i cant see myself moving in"
   ]
  }
 ],
 "metadata": {
  "kernelspec": {
   "display_name": "Python 3 (ipykernel)",
   "language": "python",
   "name": "python3"
  },
  "language_info": {
   "codemirror_mode": {
    "name": "ipython",
    "version": 3
   },
   "file_extension": ".py",
   "mimetype": "text/x-python",
   "name": "python",
   "nbconvert_exporter": "python",
   "pygments_lexer": "ipython3",
   "version": "3.10.1"
  }
 },
 "nbformat": 4,
 "nbformat_minor": 5
}
